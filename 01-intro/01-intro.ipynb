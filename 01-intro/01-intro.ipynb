{
 "cells": [
  {
   "cell_type": "code",
   "execution_count": 1,
   "id": "4a1dec5f-1464-40a6-a6bd-9f0140d32cd0",
   "metadata": {},
   "outputs": [],
   "source": [
    "import pandas as pd\n",
    "\n"
   ]
  },
  {
   "cell_type": "code",
   "execution_count": 7,
   "id": "1ce5dd79-694d-4b88-8cfd-06f2f6dc1c23",
   "metadata": {},
   "outputs": [
    {
     "name": "stdout",
     "output_type": "stream",
     "text": [
      "Requirement already satisfied: pandas in /home/codespace/.local/lib/python3.12/site-packages (2.2.3)\n",
      "Collecting pyarrow\n",
      "  Downloading pyarrow-20.0.0-cp312-cp312-manylinux_2_28_x86_64.whl.metadata (3.3 kB)\n",
      "Requirement already satisfied: numpy>=1.26.0 in /home/codespace/.local/lib/python3.12/site-packages (from pandas) (2.2.4)\n",
      "Requirement already satisfied: python-dateutil>=2.8.2 in /home/codespace/.local/lib/python3.12/site-packages (from pandas) (2.9.0.post0)\n",
      "Requirement already satisfied: pytz>=2020.1 in /home/codespace/.local/lib/python3.12/site-packages (from pandas) (2025.1)\n",
      "Requirement already satisfied: tzdata>=2022.7 in /home/codespace/.local/lib/python3.12/site-packages (from pandas) (2025.1)\n",
      "Requirement already satisfied: six>=1.5 in /home/codespace/.local/lib/python3.12/site-packages (from python-dateutil>=2.8.2->pandas) (1.17.0)\n",
      "Downloading pyarrow-20.0.0-cp312-cp312-manylinux_2_28_x86_64.whl (42.3 MB)\n",
      "\u001b[2K   \u001b[38;2;114;156;31m━━━━━━━━━━━━━━━━━━━━━━━━━━━━━━━━━━━━━━━━\u001b[0m \u001b[32m42.3/42.3 MB\u001b[0m \u001b[31m61.6 MB/s\u001b[0m eta \u001b[36m0:00:00\u001b[0m0m eta \u001b[36m0:00:01\u001b[0m\n",
      "\u001b[?25hInstalling collected packages: pyarrow\n",
      "Successfully installed pyarrow-20.0.0\n",
      "\n",
      "\u001b[1m[\u001b[0m\u001b[34;49mnotice\u001b[0m\u001b[1;39;49m]\u001b[0m\u001b[39;49m A new release of pip is available: \u001b[0m\u001b[31;49m25.0.1\u001b[0m\u001b[39;49m -> \u001b[0m\u001b[32;49m25.1.1\u001b[0m\n",
      "\u001b[1m[\u001b[0m\u001b[34;49mnotice\u001b[0m\u001b[1;39;49m]\u001b[0m\u001b[39;49m To update, run: \u001b[0m\u001b[32;49mpython3 -m pip install --upgrade pip\u001b[0m\n",
      "Note: you may need to restart the kernel to use updated packages.\n"
     ]
    }
   ],
   "source": [
    "pip install pandas pyarrow\n"
   ]
  },
  {
   "cell_type": "code",
   "execution_count": 3,
   "id": "4ca84a71-8624-4767-b8f0-56ea9b1542fd",
   "metadata": {},
   "outputs": [],
   "source": [
    "df=pd.read_parquet('https://d37ci6vzurychx.cloudfront.net/trip-data/yellow_tripdata_2023-01.parquet',engine=\"pyarrow\")"
   ]
  },
  {
   "cell_type": "code",
   "execution_count": 8,
   "id": "7bb84050-34fd-4fb7-afb1-b784b3d8a870",
   "metadata": {},
   "outputs": [
    {
     "data": {
      "text/plain": [
       "Index(['VendorID', 'tpep_pickup_datetime', 'tpep_dropoff_datetime',\n",
       "       'passenger_count', 'trip_distance', 'RatecodeID', 'store_and_fwd_flag',\n",
       "       'PULocationID', 'DOLocationID', 'payment_type', 'fare_amount', 'extra',\n",
       "       'mta_tax', 'tip_amount', 'tolls_amount', 'improvement_surcharge',\n",
       "       'total_amount', 'congestion_surcharge', 'airport_fee'],\n",
       "      dtype='object')"
      ]
     },
     "execution_count": 8,
     "metadata": {},
     "output_type": "execute_result"
    }
   ],
   "source": [
    "df.columns"
   ]
  },
  {
   "cell_type": "code",
   "execution_count": 7,
   "id": "2c4d9ed2-ec7b-41ca-91cb-de2a123c54c9",
   "metadata": {},
   "outputs": [
    {
     "data": {
      "text/plain": [
       "19"
      ]
     },
     "execution_count": 7,
     "metadata": {},
     "output_type": "execute_result"
    }
   ],
   "source": [
    "len(df.columns)"
   ]
  },
  {
   "cell_type": "code",
   "execution_count": 10,
   "id": "3ab5e685-8c29-4ea9-bbff-3a973188cec1",
   "metadata": {},
   "outputs": [
    {
     "data": {
      "text/plain": [
       "0         2023-01-01 00:32:10\n",
       "1         2023-01-01 00:55:08\n",
       "2         2023-01-01 00:25:04\n",
       "3         2023-01-01 00:03:48\n",
       "4         2023-01-01 00:10:29\n",
       "                  ...        \n",
       "3066761   2023-01-31 23:58:34\n",
       "3066762   2023-01-31 23:31:09\n",
       "3066763   2023-01-31 23:01:05\n",
       "3066764   2023-01-31 23:40:00\n",
       "3066765   2023-01-31 23:07:32\n",
       "Name: tpep_pickup_datetime, Length: 3066766, dtype: datetime64[us]"
      ]
     },
     "execution_count": 10,
     "metadata": {},
     "output_type": "execute_result"
    }
   ],
   "source": [
    "df['tpep_pickup_datetime']"
   ]
  },
  {
   "cell_type": "code",
   "execution_count": 11,
   "id": "1ab8346f-aead-4f51-9fd5-491583941cc6",
   "metadata": {},
   "outputs": [
    {
     "name": "stdout",
     "output_type": "stream",
     "text": [
      "Standard deviation of trip durations (minutes): 42.59435124195458\n"
     ]
    }
   ],
   "source": [
    "df['duration'] = (df['tpep_dropoff_datetime'] - df['tpep_pickup_datetime']).dt.total_seconds() / 60\n",
    "\n",
    "print(\"Standard deviation of trip durations (minutes):\", df['duration'].std())"
   ]
  },
  {
   "cell_type": "code",
   "execution_count": 16,
   "id": "8d96a574-8744-4530-b82c-2c125970802a",
   "metadata": {},
   "outputs": [
    {
     "name": "stdout",
     "output_type": "stream",
     "text": [
      "fraction : 98.1220282212598 %\n"
     ]
    }
   ],
   "source": [
    "df_clean=df[(df['duration']>=1) & (df['duration']<=60)]\n",
    "total=len(df)\n",
    "fraction=len(df_clean)/total\n",
    "print(\"fraction :\",fraction*100,\"%\")"
   ]
  },
  {
   "cell_type": "code",
   "execution_count": 23,
   "id": "49e289c9-d90b-4e92-abda-0e1e2f3c5977",
   "metadata": {},
   "outputs": [
    {
     "name": "stdout",
     "output_type": "stream",
     "text": [
      "The dimensionality of the feature matrix is: 518\n"
     ]
    }
   ],
   "source": [
    "from sklearn.feature_extraction import DictVectorizer\n",
    "\n",
    "# Select the relevant columns and convert IDs to strings\n",
    "df['PULocationID'] = df['PULocationID'].astype(str)\n",
    "df['DOLocationID'] = df['DOLocationID'].astype(str)\n",
    "\n",
    "# Convert the DataFrame to a list of dictionaries\n",
    "data_dicts = df[['PULocationID', 'DOLocationID']].to_dict(orient='records')\n",
    "\n",
    "# Initialize and fit the DictVectorizer\n",
    "dv = DictVectorizer(sparse=True)\n",
    "feature_matrix = dv.fit_transform(data_dicts)\n",
    "\n",
    "# Determine the dimensionality of the feature matrix\n",
    "num_columns = feature_matrix.shape[1]\n",
    "print(f\"The dimensionality of the feature matrix is: {num_columns}\")\n"
   ]
  },
  {
   "cell_type": "code",
   "execution_count": 24,
   "id": "9048d0df-9d4a-4ec5-98fb-8069de4ffc2d",
   "metadata": {},
   "outputs": [
    {
     "name": "stdout",
     "output_type": "stream",
     "text": [
      "518\n"
     ]
    }
   ],
   "source": [
    "unique_pu = df['PULocationID'].nunique()\n",
    "unique_do = df['DOLocationID'].nunique()\n",
    "print(unique_pu + unique_do)\n"
   ]
  },
  {
   "cell_type": "code",
   "execution_count": 1,
   "id": "3867a420-7546-4bcd-9092-47e583568372",
   "metadata": {},
   "outputs": [
    {
     "name": "stdout",
     "output_type": "stream",
     "text": [
      "Train RMSE: 7.65\n"
     ]
    }
   ],
   "source": [
    "import pandas as pd\n",
    "from sklearn.feature_extraction import DictVectorizer\n",
    "from sklearn.linear_model import LinearRegression\n",
    "from sklearn.metrics import mean_squared_error\n",
    "import numpy as np\n",
    "\n",
    "# Load data\n",
    "df = pd.read_parquet(\n",
    "    'https://d37ci6vzurychx.cloudfront.net/trip-data/yellow_tripdata_2023-01.parquet',\n",
    "    engine=\"pyarrow\"\n",
    ")\n",
    "\n",
    "# Compute trip duration in minutes\n",
    "df['duration'] = (df['tpep_dropoff_datetime'] - df['tpep_pickup_datetime']).dt.total_seconds() / 60\n",
    "df = df[(df['duration'] >= 1) & (df['duration'] <= 60)]\n",
    "\n",
    "# Convert IDs to strings\n",
    "df['PULocationID'] = df['PULocationID'].astype(str)\n",
    "df['DOLocationID'] = df['DOLocationID'].astype(str)\n",
    "\n",
    "# Vectorize\n",
    "dv = DictVectorizer()\n",
    "train_dicts = df[['PULocationID', 'DOLocationID']].to_dict(orient='records')\n",
    "X_train = dv.fit_transform(train_dicts)\n",
    "y_train = df['duration'].values\n",
    "\n",
    "# Train model\n",
    "model = LinearRegression()\n",
    "model.fit(X_train, y_train)\n",
    "\n",
    "# Predict and evaluate\n",
    "y_pred = model.predict(X_train)\n",
    "rmse = np.sqrt(mean_squared_error(y_train, y_pred))\n",
    "print(f\"Train RMSE: {rmse:.2f}\")\n"
   ]
  },
  {
   "cell_type": "code",
   "execution_count": null,
   "id": "c2907e6e-e7ba-40c9-be65-2dc649b700ed",
   "metadata": {},
   "outputs": [],
   "source": [
    "# Load validation data\n",
    "df_val = pd.read_parquet(\n",
    "    'https://d37ci6vzurychx.cloudfront.net/trip-data/yellow_tripdata_2023-02.parquet',\n",
    "    engine=\"pyarrow\"\n",
    ")\n",
    "\n",
    "# Compute duration\n",
    "df_val['duration'] = (df_val['tpep_dropoff_datetime'] - df_val['tpep_pickup_datetime']).dt.total_seconds() / 60\n",
    "df_val = df_val[(df_val['duration'] >= 1) & (df_val['duration'] <= 60)]\n",
    "\n",
    "# Convert IDs to strings\n",
    "df_val['PULocationID'] = df_val['PULocationID'].astype(str)\n",
    "df_val['DOLocationID'] = df_val['DOLocationID'].astype(str)\n",
    "\n",
    "# Vectorize using the previously fitted DictVectorizer (dv)\n",
    "val_dicts = df_val[['PULocationID', 'DOLocationID']].to_dict(orient='records')\n",
    "X_val = dv.transform(val_dicts)  # IMPORTANT: use transform, not fit_transform\n",
    "y_val = df_val['duration'].values\n",
    "\n",
    "# Predict and evaluate\n",
    "y_pred_val = model.predict(X_val)\n",
    "rmse_val = np.sqrt(mean_squared_error(y_val, y_pred_val))\n",
    "print(f\"Validation RMSE: {rmse_val:.2f}\")\n"
   ]
  }
 ],
 "metadata": {
  "kernelspec": {
   "display_name": "Python 3 (ipykernel)",
   "language": "python",
   "name": "python3"
  },
  "language_info": {
   "codemirror_mode": {
    "name": "ipython",
    "version": 3
   },
   "file_extension": ".py",
   "mimetype": "text/x-python",
   "name": "python",
   "nbconvert_exporter": "python",
   "pygments_lexer": "ipython3",
   "version": "3.12.1"
  }
 },
 "nbformat": 4,
 "nbformat_minor": 5
}
